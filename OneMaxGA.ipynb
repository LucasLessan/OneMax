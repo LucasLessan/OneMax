{
  "nbformat": 4,
  "nbformat_minor": 0,
  "metadata": {
    "colab": {
      "name": "OneMaxGA.ipynb",
      "provenance": [],
      "collapsed_sections": [],
      "authorship_tag": "ABX9TyP+lhM6UxeK/qdW8w6b2L8s"
    },
    "kernelspec": {
      "display_name": "Python 3",
      "name": "python3"
    }
  },
  "cells": [
    {
      "cell_type": "markdown",
      "metadata": {
        "id": "FaHKXx89NjCp"
      },
      "source": [
        "# Backstage"
      ]
    },
    {
      "cell_type": "code",
      "metadata": {
        "id": "d2bI00knv8QU"
      },
      "source": [
        "import numpy as np\n",
        "import matplotlib.pyplot as plt\n",
        "import pandas as pd\n",
        "from matplotlib.pyplot import cm\n",
        "# import pprint\n",
        "\n",
        "import math\n",
        "\n",
        "import scipy.stats as st"
      ],
      "execution_count": null,
      "outputs": []
    },
    {
      "cell_type": "code",
      "metadata": {
        "id": "Cl0TKZ8LJSph"
      },
      "source": [
        "plt.style.use('seaborn-colorblind')\n",
        "plt.rcParams['figure.figsize']  = (22, 9)\n",
        "plt.rcParams['axes.labelsize']  = 20\n",
        "plt.rcParams['axes.titlesize']  = 20\n",
        "plt.rcParams['legend.fontsize'] = 20\n",
        "plt.rcParams['xtick.labelsize'] = 20\n",
        "plt.rcParams['ytick.labelsize'] = 20\n",
        "plt.rcParams['lines.linewidth'] = 2\n",
        "plt.rcParams['lines.markersize'] = 15\n",
        "plt.rcParams['font.sans-serif'] = ['Verdana', 'Lucida Sans', 'Helvetica', 'DejaVu Sans']\n",
        "plt.rcParams['font.family'] = 'sans-serif'\n",
        "# plt.rcParams.keys()"
      ],
      "execution_count": null,
      "outputs": []
    },
    {
      "cell_type": "code",
      "metadata": {
        "id": "bLGHbso2JUBw"
      },
      "source": [
        "def despine(ax=None):\n",
        "    if ax is None:\n",
        "        ax = plt.gca()\n",
        "    # Hide the right and top spines\n",
        "    ax.spines['right'].set_visible(False)\n",
        "    ax.spines['top'].set_visible(False)\n",
        "\n",
        "    # Only show ticks on the left and bottom spines\n",
        "    ax.yaxis.set_ticks_position('left')\n",
        "    ax.xaxis.set_ticks_position('bottom')"
      ],
      "execution_count": null,
      "outputs": []
    },
    {
      "cell_type": "markdown",
      "source": [
        "# OneMax"
      ],
      "metadata": {
        "id": "WfQ_7us1w3kk"
      }
    },
    {
      "cell_type": "code",
      "metadata": {
        "id": "M9O7h3nFIQks",
        "colab": {
          "base_uri": "https://localhost:8080/",
          "height": 546
        },
        "outputId": "276e710f-5ece-4d1e-c1e8-4aeb51c660ab"
      },
      "source": [
        "from contextlib import redirect_stdout\n",
        "\n",
        "with open('output.txt', 'a') as f:\n",
        "    with redirect_stdout(f):\n",
        "        \n",
        "\n",
        "        NUM_GER = 200\n",
        "        NUM_X = 1\n",
        "        TAM_POP = 250\n",
        "        TAM_CRO = 25\n",
        "        SIZE = (TAM_POP, TAM_CRO)\n",
        "        CROSS_TAX = 0.125\n",
        "        MUT_TAX = 0.02\n",
        "        ELITISM = 26\n",
        "\n",
        "        seeds = np.random.randint(0, 2**32, NUM_X)\n",
        "\n",
        "        ttotal_gerações = 0\n",
        "\n",
        "        soluções_encontradas = 0\n",
        "\n",
        "        fitness_melhor = 0\n",
        "\n",
        "        for n1 in range(NUM_X):\n",
        "            chave = False\n",
        "            np.random.seed(seeds[n1])\n",
        "            #np.random.seed(314)\n",
        "            \n",
        "            # Geração da população inicial\n",
        "\n",
        "            #np.random.default_rng()\n",
        "\n",
        "            população = np.zeros(SIZE, dtype = int)\n",
        "\n",
        "            mask = np.random.rand(*SIZE) >= .5\n",
        "\n",
        "            população[mask] = 1\n",
        "\n",
        "            população = população[np.sum(população, axis = 1).argsort(axis = 0)[::-1]]\n",
        "\n",
        "            fitness = np.sum(população, axis = 1).reshape(TAM_POP, 1)\n",
        "            #print(\"Geração inicial\", n1 + 1, \":\", população[0])\n",
        "            #print(\"Fitness inicial\", n1 + 1, \":\", fitness[0, 0])\n",
        "\n",
        "            total_gerações = 0\n",
        "\n",
        "            z = 0\n",
        "\n",
        "            # Plottando o gráfico\n",
        "            #plt.plot(z, np.sum(fitness), 'r.', label = \"Soma da Fitness\")\n",
        "            plt.plot(z, np.mean(fitness), 'r.', label = \"Média da Fitness\")\n",
        "            plt.plot(z, np.median(fitness), 'b.', label = \"Mediana da Fitness\")\n",
        "            plt.plot(z, fitness[0, 0], 'y.', label = \"Fitness do melhor indivíduo\")\n",
        "\n",
        "            while fitness[0] < TAM_CRO and z < NUM_GER:\n",
        "            #for z in range(NUM_GER):\n",
        "                #print(\"Geração: \", z + 1)\n",
        "                #print(np.sum(fitness))\n",
        "                #print(np.mean(fitness))\n",
        "                #print(np.median(fitness))\n",
        "                #print(\"\\n\")\n",
        "\n",
        "                # Seleção por roleta\n",
        "                roleta = fitness / np.sum(fitness)\n",
        "\n",
        "                pai1 = np.zeros(TAM_CRO)\n",
        "                pai2 = np.zeros(TAM_CRO)\n",
        "\n",
        "                populaçãofilhos = np.zeros((TAM_POP - ELITISM, TAM_CRO), dtype = int)\n",
        "\n",
        "                # Reprodução\n",
        "\n",
        "                j = 0\n",
        "\n",
        "                while j < TAM_POP - ELITISM:\n",
        "                    aux = np.random.rand()\n",
        "                    i = roleta[0, 0].copy()\n",
        "                    l = 1\n",
        "                    while i < aux:\n",
        "                        i += roleta[l, 0]\n",
        "                        l += 1\n",
        "\n",
        "                    if i >= 1:\n",
        "                        pai1 = população[TAM_POP - 1].copy()\n",
        "                    else:\n",
        "                        pai1 = população[np.floor(i * TAM_POP).astype(int)].copy()\n",
        "\n",
        "                    aux = np.random.rand()\n",
        "                    i = roleta[0, 0].copy()\n",
        "                    l = 1\n",
        "                    while i < aux:\n",
        "                        i += roleta[l, 0]\n",
        "                        l += 1\n",
        "\n",
        "\n",
        "                    if i >= 1:\n",
        "                        pai2 = população[TAM_POP - 1].copy()\n",
        "                    else:\n",
        "                        pai2 = população[np.floor(i * TAM_POP).astype(int)].copy()\n",
        "\n",
        "                    # Crossover Uniforme\n",
        "                    for i in pai1:\n",
        "                        if np.random.rand() < CROSS_TAX:\n",
        "                            aux = pai1[i].copy()\n",
        "                            pai1[i] = pai2[i].copy()\n",
        "                            pai2[i] = aux.copy()\n",
        "\n",
        "                    populaçãofilhos[j] = pai1.copy()\n",
        "                    populaçãofilhos[j + 1] = pai2.copy()\n",
        "\n",
        "                    # Mutação de um ponto\n",
        "                    if np.random.rand() < MUT_TAX:\n",
        "                        pos = np.random.randint(TAM_CRO)\n",
        "                        if populaçãofilhos[j, pos] == 0:\n",
        "                            populaçãofilhos[j, pos] = 1\n",
        "                        else:\n",
        "                            populaçãofilhos[j, pos] = 0\n",
        "\n",
        "                    if np.random.rand() < MUT_TAX:\n",
        "                        pos = np.random.randint(TAM_CRO)\n",
        "                        if populaçãofilhos[j + 1, pos] == 0:\n",
        "                            populaçãofilhos[j + 1, pos] = 1\n",
        "                        else:\n",
        "                            populaçãofilhos[j + 1, pos] = 0\n",
        "\n",
        "                    j += 2\n",
        "\n",
        "                # Repopulação\n",
        "\n",
        "                for i in range(TAM_POP - ELITISM):\n",
        "                    população[i + ELITISM] = populaçãofilhos[i].copy()\n",
        "                \n",
        "                #fitness_filhos = np.sum(populaçãofilhos, axis = 1).reshape(TAM_POP - ELITISM, 1)\n",
        "                \n",
        "                #for i in range(TAM_POP - ELITISM):\n",
        "                    #if fitness_filhos[i] > fitness[i + ELITISM]:\n",
        "                        #população[i + ELITISM] = populaçãofilhos[i].copy()\n",
        "\n",
        "                população = população[np.sum(população, axis = 1).argsort(axis = 0)[::-1]]\n",
        "\n",
        "                fitness = np.sum(população, axis = 1).reshape(TAM_POP, 1)\n",
        "\n",
        "                total_gerações += 1\n",
        "                z += 1\n",
        "\n",
        "                if fitness[0] == TAM_CRO and not chave:\n",
        "                    #print(\"\\n\\nResultado encontrado na geração: \", total_gerações, \"\\n\\n\")\n",
        "                    chave = True\n",
        "                    soluções_encontradas += 1\n",
        "\n",
        "                # Plottando o gráfico\n",
        "                #plt.plot(z, np.sum(fitness), 'r.')\n",
        "                plt.plot(z, np.mean(fitness), 'r.')\n",
        "                plt.plot(z, np.median(fitness), 'b.')\n",
        "                plt.plot(z, fitness[0, 0], 'y.')\n",
        "\n",
        "            #if fitness[0] != TAM_CRO:\n",
        "                #print(\"Vencedor\", n1 + 1, \":\", população[0])\n",
        "                #print(\"Fitness\", n1 + 1, \":\", fitness[0, 0])\n",
        "                #print(\"Solução não encontrada.\")\n",
        "            #print(\"Total de Gerações\", n1 + 1, \":\", total_gerações)\n",
        "            #print(\"Valor da semente:\", seeds[n1])\n",
        "            #print(\"\\n\\n\")\n",
        "            n1 += 1\n",
        "            ttotal_gerações += total_gerações\n",
        "            fitness_melhor += fitness[0, 0]\n",
        "\n",
        "        print(\"TTotal de Gerações:\", ttotal_gerações)\n",
        "        print(\"Média de Gerações:\", ttotal_gerações / NUM_X)\n",
        "        print(\"Resultados encontrados:\", soluções_encontradas)\n",
        "        print(\"Média de Fitness do melhor indivíduo:\", fitness_melhor / NUM_X)\n",
        "        print()\n",
        "\n",
        "plt.legend(loc = 'lower right')\n",
        "plt.show()"
      ],
      "execution_count": null,
      "outputs": [
        {
          "output_type": "display_data",
          "data": {
            "text/plain": [
              "<Figure size 1584x648 with 1 Axes>"
            ],
            "image/png": "[encoded data removed]"
          },
          "metadata": {
            "needs_background": "light"
          }
        }
      ]
    },
    {
      "cell_type": "code",
      "source": [
        ""
      ],
      "metadata": {
        "id": "Qo1VZ6xfxQ2L"
      },
      "execution_count": null,
      "outputs": []
    }
  ]
}
